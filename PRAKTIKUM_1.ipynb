{
  "nbformat": 4,
  "nbformat_minor": 0,
  "metadata": {
    "colab": {
      "provenance": []
    },
    "kernelspec": {
      "name": "python3",
      "display_name": "Python 3"
    },
    "language_info": {
      "name": "python"
    }
  },
  "cells": [
    {
      "cell_type": "code",
      "execution_count": 2,
      "metadata": {
        "id": "gjNSVHWvrAct"
      },
      "outputs": [],
      "source": [
        "import os\n",
        "import re\n"
      ]
    },
    {
      "cell_type": "code",
      "source": [
        "class FolderCreator:\n",
        "    def create_folder(self, folder_name):\n",
        "        if not os.path.exists(folder_name):\n",
        "            os.mkdir(folder_name)"
      ],
      "metadata": {
        "id": "fDlonCZ_rKp9"
      },
      "execution_count": 3,
      "outputs": []
    },
    {
      "cell_type": "code",
      "source": [
        "class ITDepartmentFolderCreator(FolderCreator):\n",
        "    def create_folder(self, folder_name):\n",
        "        folder_name = 'IT'\n",
        "        if not os.path.exists(folder_name):\n",
        "            os.mkdir(folder_name)"
      ],
      "metadata": {
        "id": "bfQyGqRFrM0J"
      },
      "execution_count": 4,
      "outputs": []
    },
    {
      "cell_type": "code",
      "source": [
        "\n",
        "class MarketingDepartmentFolderCreator(FolderCreator):\n",
        "    def create_folder(self, folder_name):\n",
        "        folder_name = 'Marketing'\n",
        "        if not os.path.exists(folder_name):\n",
        "            os.mkdir(folder_name)"
      ],
      "metadata": {
        "id": "o0UHbAOMrRQv"
      },
      "execution_count": 5,
      "outputs": []
    },
    {
      "cell_type": "code",
      "source": [
        "class OtherDepartmentFolderCreator(FolderCreator):\n",
        "    def create_folder(self, folder_name):\n",
        "        folder_name = 'Прочее'\n",
        "        if not os.path.exists(folder_name):\n",
        "            os.mkdir(folder_name)"
      ],
      "metadata": {
        "id": "T0v4coQmrTf6"
      },
      "execution_count": 6,
      "outputs": []
    },
    {
      "cell_type": "code",
      "source": [
        "class FolderFactory:\n",
        "    _folders = {}\n",
        "    \n",
        "    def get_folder_creator(self, folder_name):\n",
        "        if folder_name not in self._folders:\n",
        "            if re.search('IT', folder_name, re.IGNORECASE):\n",
        "                self._folders[folder_name] = ITDepartmentFolderCreator()\n",
        "            elif re.search('Marketing', folder_name, re.IGNORECASE):\n",
        "                self._folders[folder_name] = MarketingDepartmentFolderCreator()\n",
        "            else:\n",
        "                self._folders[folder_name] = OtherDepartmentFolderCreator()\n",
        "        return self._folders[folder_name]"
      ],
      "metadata": {
        "id": "smRssLaqrT_o"
      },
      "execution_count": 7,
      "outputs": []
    },
    {
      "cell_type": "code",
      "source": [
        "class DepartmentFolder:\n",
        "    _instance = None\n",
        "    \n",
        "    def __new__(cls, *args, **kwargs):\n",
        "        if not cls._instance:\n",
        "            cls._instance = super().__new__(cls, *args, **kwargs)\n",
        "        return cls._instance\n",
        "    \n",
        "    def __init__(self):\n",
        "        self.factory = FolderFactory()\n",
        "    \n",
        "    def create_folder(self, file_path):\n",
        "        folder_name = os.path.splitext(os.path.basename(file_path))[0]\n",
        "        folder_creator = self.factory.get_folder_creator(folder_name)\n",
        "        folder_creator.create_folder(folder_name)\n",
        "        new_file_path = os.path.join(folder_name, os.path.basename(file_path))\n",
        "        os.rename(file_path, new_file_path)"
      ],
      "metadata": {
        "id": "ruSzz6_sromh"
      },
      "execution_count": 8,
      "outputs": []
    },
    {
      "cell_type": "code",
      "source": [
        "folder = DepartmentFolder()\n",
        "dir_path = input(\"Введите путь до папки: \")\n",
        "for filename in os.listdir(dir_path):\n",
        "    if filename.endswith('.txt'):\n",
        "        file_path = os.path.join(dir_path, filename)\n",
        "        folder.create_folder(file_path)"
      ],
      "metadata": {
        "id": "h7vZX7-FrvIc"
      },
      "execution_count": null,
      "outputs": []
    }
  ]
}